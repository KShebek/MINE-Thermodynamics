{
 "metadata": {
  "language_info": {
   "codemirror_mode": {
    "name": "ipython",
    "version": 3
   },
   "file_extension": ".py",
   "mimetype": "text/x-python",
   "name": "python",
   "nbconvert_exporter": "python",
   "pygments_lexer": "ipython3",
   "version": "3.9.2"
  },
  "orig_nbformat": 2,
  "kernelspec": {
   "name": "python392jvsc74a57bd0e2801dc999a1f11a8006cd6a3b0963d1db5f04dc1d1cd7acfb0a119c7f614f07",
   "display_name": "Python 3.9.2 64-bit ('minedb': conda)"
  }
 },
 "nbformat": 4,
 "nbformat_minor": 2,
 "cells": [
  {
   "cell_type": "code",
   "execution_count": 1,
   "metadata": {},
   "outputs": [],
   "source": []
  },
  {
   "cell_type": "code",
   "execution_count": 1,
   "metadata": {},
   "outputs": [],
   "source": [
    "from thermodynamics import MINE_thermo\n",
    "mongo_uri = None\n",
    "postgres_uri = \"postgresql:///eq_compounds\"\n",
    "\n",
    "mt = MINE_thermo(mongo_uri=mongo_uri, postgres_uri=postgres_uri)"
   ]
  },
  {
   "cell_type": "code",
   "execution_count": 4,
   "metadata": {},
   "outputs": [
    {
     "output_type": "stream",
     "name": "stdout",
     "text": [
      "-1033.9604935412508\n"
     ]
    }
   ],
   "source": [
    "cpd_id = mt.core.compounds.find_one()[\"_id\"]\n",
    "dgf = mt.standard_dg_formation_from_cid(cpd_id)\n",
    "print(dgf[0])"
   ]
  },
  {
   "cell_type": "code",
   "execution_count": 6,
   "metadata": {},
   "outputs": [
    {
     "output_type": "execute_result",
     "data": {
      "text/plain": [
       "<Measurement(17.449186937456403, 5.0569680902953555, kilojoule / mole)>"
      ],
      "text/html": "(17 &plusmn; 5) kilojoule/mole",
      "text/latex": "$\\left(17 \\pm 5\\right)\\ \\frac{\\mathrm{kilojoule}}{\\mathrm{mole}}$"
     },
     "metadata": {},
     "execution_count": 6
    }
   ],
   "source": [
    "mine = \"kegg_lte600_500mcy\"\n",
    "rxn_id = mt.client[mine].reactions.find_one()[\"_id\"]\n",
    "dgr = mt.standard_dg_from_rid(rxn_id, mine)\n",
    "dgr"
   ]
  },
  {
   "cell_type": "code",
   "execution_count": 7,
   "metadata": {},
   "outputs": [
    {
     "output_type": "execute_result",
     "data": {
      "text/plain": [
       "<Measurement(34.56402447217744, 5.0569680902953555, kilojoule / mole)>"
      ],
      "text/html": "(35 &plusmn; 5) kilojoule/mole",
      "text/latex": "$\\left(35 \\pm 5\\right)\\ \\frac{\\mathrm{kilojoule}}{\\mathrm{mole}}$"
     },
     "metadata": {},
     "execution_count": 7
    }
   ],
   "source": [
    "dgp = mt.physiological_dg_prime_from_rid(rxn_id, mine)\n",
    "dgp"
   ]
  }
 ]
}